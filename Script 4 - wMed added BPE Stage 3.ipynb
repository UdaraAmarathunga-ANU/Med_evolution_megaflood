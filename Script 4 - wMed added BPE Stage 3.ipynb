{
 "cells": [
  {
   "cell_type": "markdown",
   "metadata": {},
   "source": [
    "# Zanclean flood Stage 3 : Added background potential energy (BPE) by inflow\n",
    "\n",
    "## </span>(Both basins rise up to the Atlantic level)</span>\n",
    "\n",
    "\n",
    "\n",
    "This script is similar to the one used for wMed flood stage 1.\n",
    "The only difference is the hypsometry.\n",
    "Here we occupy the whole Mediterranean hypsometry above Sicily sill.\n"
   ]
  },
  {
   "cell_type": "code",
   "execution_count": 1,
   "metadata": {},
   "outputs": [],
   "source": [
    "import numpy as np\n",
    "import matplotlib.pyplot as plt\n",
    "%matplotlib inline \n",
    "import math"
   ]
  },
  {
   "cell_type": "markdown",
   "metadata": {},
   "source": [
    "## Upload data files here\n"
   ]
  },
  {
   "cell_type": "code",
   "execution_count": 2,
   "metadata": {},
   "outputs": [],
   "source": [
    "SLrise_Stage3 = np.loadtxt(fname=\"SLrise_Stage3.txt\")  # Daily rise of sea-level during stage 3\n",
    "SLrise_Stage3 = SLrise_Stage3.tolist()\n",
    "Hypsometry_wMed = np.loadtxt(fname=\"Hypsometry_wMed_BPEStage3.txt\")  # Reconstructed Mediterranean hypsometry \n",
    "                #(This file contains wMed hypsometry below the level of Sicily sill, and whole-Mediterranean hypsometry above)"
   ]
  },
  {
   "cell_type": "markdown",
   "metadata": {},
   "source": [
    "##  Setting parameters"
   ]
  },
  {
   "cell_type": "code",
   "execution_count": 3,
   "metadata": {},
   "outputs": [],
   "source": [
    "rho_SW = 1027 # Sea-water density [kg m^-3]\n",
    "g = 9.81      # Acceleration due to gravity [m s^-2]\n",
    "\n",
    "SLarray =(Hypsometry_wMed[:,0])      # Text file column 1 gives basin depth\n",
    "Area =(Hypsometry_wMed[:,1])*10**12  # Text file column 2 gives area with depth"
   ]
  },
  {
   "cell_type": "markdown",
   "metadata": {},
   "source": [
    "### Calculating added BPE (stage 3):\n",
    "\n",
    "In following sections, added BPE per day during the stage 3 will be calculated.\n",
    "\n",
    "### 3 modes of sea-level rise considered for stage 1 also applied here."
   ]
  },
  {
   "cell_type": "code",
   "execution_count": 4,
   "metadata": {},
   "outputs": [
    {
     "data": {
      "image/png": "[encoded data removed]",
      "text/plain": [
       "<Figure size 432x288 with 1 Axes>"
      ]
     },
     "metadata": {
      "needs_background": "light"
     },
     "output_type": "display_data"
    }
   ],
   "source": [
    "\n",
    "SL1 = SLrise_Stage3[0]  # Present-day sea-level\n",
    "SL2 = SLrise_Stage3[1]  # Next day sea-level\n",
    "BPE_sum = []  # Array to store total BPE for plotting\n",
    "\n",
    "t = 575    # Beginning of stage 3\n",
    "time=[]\n",
    "\n",
    "while SL1>0:\n",
    "    \n",
    "    t=t+1\n",
    "    SL1 = SLrise_Stage3[SLrise_Stage3.index(SL1)+1]\n",
    "    \n",
    "    if SL1 == SLrise_Stage3[-1]:\n",
    "        break\n",
    "        \n",
    "    SL2 = SLrise_Stage3[SLrise_Stage3.index(SL2)+1]\n",
    "\n",
    "    # Arrays used for calculations, see below\n",
    "    y   = []  \n",
    "    y0  = []\n",
    "    yi  = []\n",
    "    p   = []\n",
    "    y00 = []\n",
    "    yii = []\n",
    "    Product_VolumeHt = []\n",
    "    SL_presentDay    = math.trunc(SL1)\n",
    "    SL_nextDay       = math.trunc(SL2)+1\n",
    "    SL2_truncated    = math.trunc(SL2)\n",
    "    SL_Gap1          = SL1-SL_presentDay\n",
    "    SL_Gap2          = SL_nextDay-SL2\n",
    "    \n",
    "    #print (SL_presentDay,SL_nextDay,SL2_truncated, SL_Gap1, SL_Gap2)\n",
    "    \n",
    "    for i,j in zip(SLarray,Area):\n",
    "        \n",
    "        if i<SL1 and i>SL2:\n",
    "            \n",
    "            y.append(i)\n",
    "            p.append(j)\n",
    "            \n",
    "            for ii,jj in zip(y,p):\n",
    "                \n",
    "                product = (SL1-ii+0.5)*jj  \n",
    "                \n",
    "            Product_VolumeHt.append(product) \n",
    "            \n",
    "    BPE_completeCells = np.sum(Product_VolumeHt)*g*rho_SW\n",
    "    \n",
    "\n",
    "    \n",
    "    for i0,j0 in zip(SLarray,Area):\n",
    "        \n",
    "        if i0 == (SL_presentDay+1):\n",
    "            \n",
    "            y0.append(i0)\n",
    "            y00.append(j0)\n",
    "         \n",
    "        #CASE 1\n",
    "        BPEBot_case1 = np.array(y00)*rho_SW*0.5*g*(SL_Gap1)**2\n",
    "        # CASE 2 where SL_nextDay = SL_presentDay\n",
    "        BPEBot_case2 = np.array(y00)*rho_SW*0.5*g*((SL_Gap1)**2)\n",
    "\n",
    "        \n",
    "    for ii,ji in zip(SLarray,Area):\n",
    "        \n",
    "        if ii == SL_nextDay:\n",
    "            \n",
    "            yi.append(ii)\n",
    "            yii.append(ji)\n",
    "            \n",
    "        #Case1    \n",
    "        BPETop_case1 = np.array(yii)*rho_SW*g*0.5*((2*(SL1-SL2)*(SL2-SL2_truncated))+(SL2-SL2_truncated)**2)\n",
    "        #Case2 \n",
    "        BPETop_case2 = np.array(yii)*rho_SW*g*0.5*((2*SL_Gap1*SL_Gap2)+SL_Gap2**2)\n",
    "        \n",
    "\n",
    "    if SL_presentDay-SL2_truncated>1:    # CASE 1 (Sealevel rise across several layers)\n",
    "        BPETotal = BPE_completeCells + BPEBot_case1 - BPETop_case1     \n",
    "        \n",
    "    if SL_presentDay-SL2_truncated ==1:  # CASE 2 (Sealevel rise across 2 consecutive layers)\n",
    "        \n",
    "        BPETotal = BPEBot_case2 + BPETop_case2\n",
    "        \n",
    "    if SL_presentDay==SL2_truncated:     # CASE 3 (Sealevel rise within a layer of 1 m)\n",
    "        \n",
    "        BPETotal = ((1-SL_Gap1-SL_Gap2)**2)*rho_SW*g*0.5*np.array(yii) #- Sign doen's matter as squared is positive\n",
    "        \n",
    "        \n",
    "    BPE_sum.append(BPETotal)\n",
    "    time.append(t)\n",
    "            \n",
    "    #print(y00, BPEBot_case1, SL_Gap1, SL_Gap2, SL_presentDay, SL_nextDay, BPETop_case1)\n",
    "    #print(yii)\n",
    "    #print(y)\n",
    "    #print(p)\n",
    "    #print(prod)\n",
    "    #print(BPE_completeCells, t)\n",
    "    #print(BPE_sum)\n",
    "\n",
    "    \n",
    "plt.figure()\n",
    "plt.title('wMed added BPE Stage 3')\n",
    "plt.ylabel('BPE Added (J/day)')\n",
    "plt.xlabel('Time (Days)')\n",
    "plt.plot(time,BPE_sum)\n",
    "\n",
    "np.savetxt(\"wMed_added_BPE_Stage3.txt\", np.array(BPE_sum), fmt=\"%s\")\n",
    "    "
   ]
  },
  {
   "cell_type": "code",
   "execution_count": null,
   "metadata": {},
   "outputs": [],
   "source": []
  },
  {
   "cell_type": "code",
   "execution_count": null,
   "metadata": {},
   "outputs": [],
   "source": []
  }
 ],
 "metadata": {
  "kernelspec": {
   "display_name": "Python 3",
   "language": "python",
   "name": "python3"
  },
  "language_info": {
   "codemirror_mode": {
    "name": "ipython",
    "version": 3
   },
   "file_extension": ".py",
   "mimetype": "text/x-python",
   "name": "python",
   "nbconvert_exporter": "python",
   "pygments_lexer": "ipython3",
   "version": "3.7.1"
  }
 },
 "nbformat": 4,
 "nbformat_minor": 2
}
