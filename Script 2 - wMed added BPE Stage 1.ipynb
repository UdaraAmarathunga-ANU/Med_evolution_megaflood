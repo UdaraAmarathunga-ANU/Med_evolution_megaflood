{
 "cells": [
  {
   "cell_type": "markdown",
   "metadata": {},
   "source": [
    "# wMed flood Stage 1 : Added background potential energy (BPE) by inflow\n",
    "\n",
    "## </span>(Until the WMed level reaches Sicily sill level)</span>\n",
    "\n",
    "\n",
    "We consider the western and eastern Mediterranean basins (wMed and eMed) to be composed of 1-meter thick layers from bottom towards the surface.\n",
    "\n",
    "This domain is then used to calculate the added BPE during stage 1 of the flood (and stage 2 & 3)\n"
   ]
  },
  {
   "cell_type": "code",
   "execution_count": 5,
   "metadata": {},
   "outputs": [],
   "source": [
    "import numpy as np\n",
    "import matplotlib.pyplot as plt\n",
    "import matplotlib.image as mpimg\n",
    "%matplotlib inline \n",
    "import math\n",
    "from PIL import Image"
   ]
  },
  {
   "cell_type": "markdown",
   "metadata": {},
   "source": [
    "## Upload data files here\n",
    "\n",
    "Rise of the basin levels exported from Zanclean flooding model is used to calculate the daily addition of BPE by flood discharge."
   ]
  },
  {
   "cell_type": "code",
   "execution_count": 6,
   "metadata": {},
   "outputs": [],
   "source": [
    "SLrise_Stage1 = np.loadtxt(fname=\"SLrise_toSicily.txt\")  # Daily rise of sea-level during stage 1\n",
    "SLrise_Stage1 = SLrise_Stage1.tolist()\n",
    "Hypsometry_wMed = np.loadtxt(fname=\"Hypsometry_wMed_CalcBPE.txt\")   # Reconstructed wMed hypsometry\n"
   ]
  },
  {
   "cell_type": "markdown",
   "metadata": {},
   "source": [
    "##  Setting parameters"
   ]
  },
  {
   "cell_type": "code",
   "execution_count": 7,
   "metadata": {},
   "outputs": [],
   "source": [
    "rho_SW = 1027 # Sea-water density [kg m^-3]\n",
    "g = 9.81      # Acceleration due to gravity [m s^-2]\n",
    "\n",
    "SLarray =(Hypsometry_wMed[:,0])        # Text file column 1 gives basin depth\n",
    "Area    =(Hypsometry_wMed[:,1])*10**12 # Text file column 2 gives area with depth"
   ]
  },
  {
   "cell_type": "markdown",
   "metadata": {},
   "source": [
    "<img src=\"https://www.dropbox.com/s/49iuqo1vq8b2gut/BPE_Calc_concept.jpg?dl=1\" width=\"806.4\" height=\"453.6\" >\n"
   ]
  },
  {
   "cell_type": "markdown",
   "metadata": {},
   "source": [
    "## <span style='color:Red'> Equations  </span>\n",
    "\n",
    "Consider the wMed basin during the flood to be composed of 1-m thick layers ($dz$).\n",
    "Base level prior to the flood, $z = 0$.\n",
    "\n",
    "Potential energy (PE) contribution by a single layer $Li$ of thickness $dz$ with brine density $\\rho_b$ and area $Ai$ can be written as:\n",
    "$$ PE_i = A_i\\rho_b g [-dz(i-0.5)] dz$$\n",
    "\n",
    "where $g$ is acceleration due to gravity.\n",
    "\n",
    "Therefore, total PE of the brine column can be given as:\n",
    "\n",
    "$$ PE_{brine} = \\sum_{i=1}^{n} {A_i\\rho_b g [-dz(i-0.5)] dz}$$\n",
    "\n",
    "If the thickness of sea-water layer flooded in to the basin is $y$, and the sea-water density is $\\rho_s$, \n",
    "\n",
    "Added BPE by the inflow is: $$ PE_{Added} = \\frac{(A_i\\rho_s g y^{2})}{2} $$\n",
    "\n",
    "Total PE of the system can be written as:$$ PE_{total} =  PE_{Added} + PE_{brine}$$\n",
    "\n",
    "$$ PE_{total} = \\frac{(A_i\\rho_s g y^{2})}{2} -\\sum_{i=1}^{n} {A_i\\rho_b g [(i-0.5)] dz^{2}}$$\n",
    "\n",
    "### Calculating added BPE (stage 1):\n",
    "\n",
    "In following sections, added BPE per day during the stage 1 will be calculated."
   ]
  },
  {
   "cell_type": "markdown",
   "metadata": {},
   "source": [
    "### We consider 3 possible modes of sea-level rise in the system (see the diagrams)"
   ]
  },
  {
   "cell_type": "markdown",
   "metadata": {},
   "source": [
    "<img src=\"https://www.dropbox.com/s/nfhguleq75v1oq5/Added%20BPE%20Case1_2_3.jpg?dl=1\" width=\"567.2\" height=\"569\">"
   ]
  },
  {
   "cell_type": "code",
   "execution_count": 9,
   "metadata": {},
   "outputs": [
    {
     "data": {
      "image/png": "[encoded data removed]",
      "text/plain": [
       "<Figure size 432x288 with 1 Axes>"
      ]
     },
     "metadata": {
      "needs_background": "light"
     },
     "output_type": "display_data"
    }
   ],
   "source": [
    "SL1 = SLrise_Stage1[0]  # Present-day sea-level\n",
    "SL2 = SLrise_Stage1[1]  # Next day sea-level\n",
    "\n",
    "BPE_sum = [0]  # Array to store total BPE for plotting\n",
    "t = 1         # Starting time\n",
    "time=[]       # Array to store time [days]\n",
    "\n",
    "while SL1>0:\n",
    "    \n",
    "    SL1 = SLrise_Stage1[SLrise_Stage1.index(SL1)+1]\n",
    "    \n",
    "    if SL1 == SLrise_Stage1[-1]:\n",
    "        break\n",
    "        \n",
    "    SL2 = SLrise_Stage1[SLrise_Stage1.index(SL2)+1]\n",
    "\n",
    "    # Arrays used for calculations, see below\n",
    "    y    = []\n",
    "    y0   = []\n",
    "    yi   = []\n",
    "    p    = []\n",
    "    y00  = []\n",
    "    yii  = []\n",
    "    Product_VolumeHt = [] # product of cell volume and head difference\n",
    "    \n",
    "    SL_presentDay    = math.trunc(SL1)\n",
    "    SL_nextDay       = math.trunc(SL2)+1\n",
    "    SL2_truncated    = math.trunc(SL2)\n",
    "    SL_Gap1          = SL1-SL_presentDay\n",
    "    SL_Gap2          = SL_nextDay-SL2\n",
    "    \n",
    "    #print (SL_presentDay,SL_nextDay,SL2_truncated, SL_Gap1, SL_Gap2)\n",
    "    \n",
    "    for i,j in zip(SLarray,Area):\n",
    "        \n",
    "        if i<SL1 and i>SL2:\n",
    "            \n",
    "            y.append(i)\n",
    "            p.append(j)\n",
    "\n",
    "            for ii,jj in zip(y,p):\n",
    "                \n",
    "                product = (SL1-ii+0.5)*jj  \n",
    "                \n",
    "            Product_VolumeHt.append(product) \n",
    "            \n",
    "    BPE_completeCells = np.sum(Product_VolumeHt)*g*rho_SW\n",
    "    \n",
    "\n",
    "    \n",
    "    for i0,j0 in zip(SLarray,Area):\n",
    "        \n",
    "        if i0 == (SL_presentDay+1):\n",
    "            \n",
    "            y0.append(i0)\n",
    "            y00.append(j0)\n",
    "         \n",
    "        #CASE 1\n",
    "        BPEBot_case1 = np.array(y00)*rho_SW*0.5*g*(SL_Gap1)**2\n",
    "        # CASE 2 where SL_nextDay = SL_presentDay\n",
    "        BPEBot_case2 = np.array(y00)*rho_SW*0.5*g*((SL_Gap1)**2)\n",
    "\n",
    "        \n",
    "    for ii,ji in zip(SLarray,Area):\n",
    "        \n",
    "        if ii == SL_nextDay:\n",
    "            \n",
    "            yi.append(ii)\n",
    "            yii.append(ji)\n",
    "            \n",
    "        #Case1    \n",
    "        BPETop_case1    = np.array(yii)*rho_SW*g*0.5*((2*(SL1-SL2)*(SL2-SL2_truncated))+(SL2-SL2_truncated)**2)\n",
    "        #Case2 \n",
    "        BPETop_case2    = np.array(yii)*rho_SW*g*0.5*((2*SL_Gap1*SL_Gap2)+SL_Gap2**2)\n",
    "        \n",
    "\n",
    "    if SL_presentDay-SL2_truncated>1:    # CASE 1 (Sealevel rise across several layers)\n",
    "        BPETotal = (BPE_completeCells + BPEBot_case1 - BPETop_case1)     \n",
    "        \n",
    "    if SL_presentDay-SL2_truncated ==1:  # CASE 2 (Sealevel rise across 2 consecutive layers)\n",
    "        \n",
    "        BPETotal = BPEBot_case2 + BPETop_case2\n",
    "        \n",
    "    if SL_presentDay==SL2_truncated:     # CASE 3 (Sealevel rise within a layer of 1 m)\n",
    "        \n",
    "        BPETotal = ((1-SL_Gap1-SL_Gap2)**2)*rho_SW*g*0.5*np.array(yii) #- Sign doen's matter as squared is positive\n",
    "        \n",
    "\n",
    "        \n",
    "    BPE_sum.append(BPETotal)\n",
    "    time.append(t)\n",
    "    t=t+1       \n",
    "    #print(y00, BPEBot_case1, SL_Gap1, SL_Gap2, SL_presentDay, SL_nextDay, BPETop_case1)\n",
    "    #print(yii)\n",
    "    #print(y)\n",
    "    #print(BPE_completeCells, t)\n",
    "\n",
    "    \n",
    "plt.figure()\n",
    "plt.title('wMed added BPE Stage 1')\n",
    "plt.ylabel('BPE Added (J/day)')\n",
    "plt.xlabel('Time (Days)')\n",
    "plt.plot(time,BPE_sum[1:])\n",
    "\n",
    "np.savetxt(\"wMed_added_BPE_Stage1.txt\", np.array(BPE_sum), fmt=\"%s\")\n",
    "    "
   ]
  },
  {
   "cell_type": "code",
   "execution_count": null,
   "metadata": {},
   "outputs": [],
   "source": []
  }
 ],
 "metadata": {
  "kernelspec": {
   "display_name": "Python 3",
   "language": "python",
   "name": "python3"
  },
  "language_info": {
   "codemirror_mode": {
    "name": "ipython",
    "version": 3
   },
   "file_extension": ".py",
   "mimetype": "text/x-python",
   "name": "python",
   "nbconvert_exporter": "python",
   "pygments_lexer": "ipython3",
   "version": "3.7.1"
  }
 },
 "nbformat": 4,
 "nbformat_minor": 2
}
