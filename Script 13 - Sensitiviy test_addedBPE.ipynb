{
 "cells": [
  {
   "cell_type": "markdown",
   "metadata": {},
   "source": [
    "## Sensitivity test basin refilling : Added background potential energy (BPE) by inflow\n",
    "\n",
    "Same concepts used in previous BPE calculations are used here.\n"
   ]
  },
  {
   "cell_type": "code",
   "execution_count": 1,
   "metadata": {},
   "outputs": [],
   "source": [
    "import numpy as np\n",
    "import matplotlib.pyplot as plt\n",
    "%matplotlib inline \n",
    "import math"
   ]
  },
  {
   "cell_type": "markdown",
   "metadata": {},
   "source": [
    "## Upload data files here\n",
    "\n",
    "Rise of the basin levels exported from refilling model is used to calculate the daily addition of BPE by flood discharge."
   ]
  },
  {
   "cell_type": "code",
   "execution_count": 2,
   "metadata": {},
   "outputs": [],
   "source": [
    "SLrise_ST = np.loadtxt(fname=\"SensitivityTest_SL_rise_wMed.txt\")       # Daily sea-level rise [From Script 12]\n",
    "Hypsometrywmed = np.loadtxt(fname=\"Hypsometry_Stage3_Refilling.txt\")"
   ]
  },
  {
   "cell_type": "markdown",
   "metadata": {},
   "source": [
    "## Setting parameters"
   ]
  },
  {
   "cell_type": "code",
   "execution_count": 3,
   "metadata": {},
   "outputs": [],
   "source": [
    "rho_SW  = 1027 # Sea-water density [kg m^-3]\n",
    "g       = 9.81 # Acceleration due to gravity [m s^-2]\n",
    "SL      = SLrise_ST.tolist()\n",
    "SLarray = (Hypsometrywmed[:,0])          # Text file column 1 gives basin depth\n",
    "Area    = (Hypsometrywmed[:,1])*10**12    # Text file column 2 gives area with depth"
   ]
  },
  {
   "cell_type": "code",
   "execution_count": 5,
   "metadata": {},
   "outputs": [
    {
     "data": {
      "image/png": "[encoded data removed]",
      "text/plain": [
       "<Figure size 432x288 with 1 Axes>"
      ]
     },
     "metadata": {
      "needs_background": "light"
     },
     "output_type": "display_data"
    }
   ],
   "source": [
    "SL1 = SL[0]  # Present-day sea-level\n",
    "SL2 = SL[1]  # Next day sea-level\n",
    "BPE_sum = [] # Array to store total BPE for plotting\n",
    "t = 1        # Starting time\n",
    "time=[]      # Array to store time [days]\n",
    "\n",
    "while SL1>0:\n",
    "    \n",
    "    \n",
    "    SL1=SL[SL.index(SL1)+1]\n",
    "    if SL1 == SL[-1]:\n",
    "        break\n",
    "        \n",
    "    SL2=SL[SL.index(SL2)+1]\n",
    "\n",
    "    \n",
    "    #print (SL1, SL2)\n",
    "    \n",
    "    # Arrays used for calculations, see below\n",
    "    y=[]\n",
    "    y0 = []\n",
    "    yi = []\n",
    "    p=[]\n",
    "    y00 = []\n",
    "    yii = []\n",
    "    Product_VolumeHt = []  # product of cell volume and head difference\n",
    "    \n",
    "    SLEarly = math.trunc(SL1)\n",
    "    SLLate = math.trunc(SL2)+1\n",
    "    SLLate2 = math.trunc(SL2)\n",
    "    SLGap1 = SL1-SLEarly\n",
    "    SLGap2 = SLLate-SL2\n",
    "    \n",
    "    #print (SLEarly,SLLate,SLLate2, SLGap1, SLGap2)\n",
    "    \n",
    "    for i,j in zip(SLarray,Area):\n",
    "        \n",
    "        if i<SL1 and i>SL2:\n",
    "            \n",
    "            y.append(i)\n",
    "            p.append(j)\n",
    "            #print (j)\n",
    "            \n",
    "            for ii,jj in zip(y,p):\n",
    "                \n",
    "                product = (SL1-ii+0.5)*jj  \n",
    "                \n",
    "            Product_VolumeHt.append(product) \n",
    "            \n",
    "    BPEInBetween = np.sum(Product_VolumeHt)*g*rho_SW\n",
    "    \n",
    "\n",
    "    \n",
    "    for i0,j0 in zip(SLarray,Area):\n",
    "        \n",
    "        if i0 == (SLEarly+1):\n",
    "            \n",
    "            y0.append(i0)\n",
    "            y00.append(j0)\n",
    "         \n",
    "        #CASE 1\n",
    "        BPEBot_case1 = np.array(y00)*rho_SW*0.5*g*(SLGap1)**2\n",
    "        # CASE 2 where SLLate = SLEarly\n",
    "        BPEBot_case2 = np.array(y00)*rho_SW*0.5*g*((SLGap1)**2)\n",
    "        \n",
    "    for ii,ji in zip(SLarray,Area):\n",
    "        \n",
    "        if ii == SLLate:\n",
    "            \n",
    "            yi.append(ii)\n",
    "            yii.append(ji)\n",
    "            \n",
    "        #Case 1\n",
    "        BPETop_case1 = np.array(yii)*rho_SW*g*0.5*((2*(SL1-SL2)*(SL2-SLLate2))+(SL2-SLLate2)**2)\n",
    "        #Case2 \n",
    "        BPETop_case2 = np.array(yii)*rho_SW*g*0.5*((2*SLGap1*SLGap2)+SLGap2**2)\n",
    "\n",
    "    if SLEarly-SLLate2>1:    # CASE 1 (Sealevel rise across several layers)\n",
    "        BPETotal = BPEInBetween+BPEBot_case1-BPETop_case1 \n",
    "        \n",
    "    if SLEarly-SLLate2 ==1:  # CASE 2 (Sealevel rise across 2 consecutive layers)\n",
    "        \n",
    "        BPETotal = BPEBot_case2+BPETop_case2\n",
    "        \n",
    "    if SLEarly==SLLate2:     # CASE 3 (Sealevel rise within a layer of 1 m)\n",
    "        \n",
    "        BPETotal = ((1-SLGap1-SLGap2)**2)*rho_SW*g*0.5*np.array(yii) #- Sign doen's matter as squared is positive\n",
    "\n",
    "        \n",
    "    #print (BPETotal)\n",
    "        \n",
    "    BPE_sum.append(BPETotal)\n",
    "    time.append(t)\n",
    "    t=t+1       \n",
    "    #print(y00, BPEBot_case1, SLGap1, SLGap2, SLEarly, SLLate, BPETop_case1)\n",
    "    #print(yii)\n",
    "    #print(y)\n",
    "    #print(p)\n",
    "    #print(Product_VolumeHt)\n",
    "    #print(BPEInBetween, t)\n",
    "    #print(BPE_sum)\n",
    "\n",
    "    \n",
    "plt.figure()\n",
    "plt.title('Filled Mediterranean Added BPE Stage 3')\n",
    "plt.ylabel('BPE Added [J/day]')\n",
    "plt.xlabel('Time (Days)')\n",
    "plt.plot(time,BPE_sum)\n",
    "\n",
    "np.savetxt(\"ST_Added_BPE.txt\", np.array(BPE_sum), fmt=\"%s\")\n",
    "    "
   ]
  },
  {
   "cell_type": "code",
   "execution_count": null,
   "metadata": {},
   "outputs": [],
   "source": []
  }
 ],
 "metadata": {
  "kernelspec": {
   "display_name": "Python 3",
   "language": "python",
   "name": "python3"
  },
  "language_info": {
   "codemirror_mode": {
    "name": "ipython",
    "version": 3
   },
   "file_extension": ".py",
   "mimetype": "text/x-python",
   "name": "python",
   "nbconvert_exporter": "python",
   "pygments_lexer": "ipython3",
   "version": "3.7.1"
  }
 },
 "nbformat": 4,
 "nbformat_minor": 2
}
