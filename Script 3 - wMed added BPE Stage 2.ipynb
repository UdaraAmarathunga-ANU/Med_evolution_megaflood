{
 "cells": [
  {
   "cell_type": "markdown",
   "metadata": {},
   "source": [
    "# wMed flood Stage 2 : Added background potential energy (BPE) by inflow\n",
    "\n",
    "## </span>(wMed level stays at Sicily sill level, eMed fills up)</span>\n",
    "\n",
    "\n",
    "We consider the western and eastern Mediterranean basins (wMed and eMed) to be composed of 1-meter thick layers from bottom towards the surface.\n",
    "\n",
    "Atlantic waters enter wMed through Gibraltar sill, replacing mixed wMed brines. An equivalent volume of wMed brines are transferred to the eMed.\n"
   ]
  },
  {
   "cell_type": "code",
   "execution_count": 46,
   "metadata": {},
   "outputs": [],
   "source": [
    "import numpy as np\n",
    "import matplotlib.pyplot as plt\n",
    "%matplotlib inline \n",
    "import math"
   ]
  },
  {
   "cell_type": "markdown",
   "metadata": {},
   "source": [
    "## Upload data files here"
   ]
  },
  {
   "cell_type": "code",
   "execution_count": 47,
   "metadata": {},
   "outputs": [],
   "source": [
    "Discharge = np.loadtxt(fname=\"Discharge.txt\")  # Daily discharge (From Script 1)\n",
    "Hypsometry_wMed = np.loadtxt(fname=\"Hypsometry_wMed_CalcBPE.txt\")  # Reconstructed wMed hypsometry"
   ]
  },
  {
   "cell_type": "markdown",
   "metadata": {},
   "source": [
    "## Setting parameters"
   ]
  },
  {
   "cell_type": "code",
   "execution_count": 48,
   "metadata": {},
   "outputs": [],
   "source": [
    "rho_SW = 1027 # Sea-water density [kg m^-3]\n",
    "g = 9.81      # Acceleration due to gravity [m s^-2]\n",
    "\n",
    "Depth      = Hypsometry_wMed[:,0]  # Text file column 1 gives basin depth\n",
    "DepthList  = Depth.tolist()\n",
    "\n",
    "Area       = (Hypsometry_wMed[:,1])*10**12  # Text file column 2 gives area with depth\n",
    "Vol        = (Hypsometry_wMed[:,3])*10**12  # Text file column 2 gives volume with depth\n",
    "SLArray    = (Hypsometry_wMed[:,0])\n",
    "VolList   = Vol.tolist()\n",
    "Vol_Sicily = Vol[426]  # Sicily sill level set to 426 m, as in the end of day 386, basin fills up to this level. \n",
    "                       # For simplicity, we consider this to be stage 1 termination (As we compute daily basin evolution)\n",
    "# Arrays created for the purpose of plotting\n",
    "time       = []\n",
    "BPE_sum    = []\n",
    "lower_BPE      = []\n",
    "AddedLayer_bot = []"
   ]
  },
  {
   "cell_type": "markdown",
   "metadata": {},
   "source": [
    "<img src=\"https://www.dropbox.com/s/bjqvd1nat3iwr30/BPE_Calc_stage2.jpg?raw=1\" width=\"749.7\" height=\"379.4\">"
   ]
  },
  {
   "cell_type": "markdown",
   "metadata": {},
   "source": [
    "### Calculating added BPE (stage 2):\n",
    "\n",
    "In following sections, added BPE per day during the stage 2 will be calculated, using similar arguments as in stage 1."
   ]
  },
  {
   "cell_type": "code",
   "execution_count": 49,
   "metadata": {},
   "outputs": [
    {
     "data": {
      "image/png": "[encoded data removed]",
      "text/plain": [
       "<Figure size 432x288 with 1 Axes>"
      ]
     },
     "metadata": {
      "needs_background": "light"
     },
     "output_type": "display_data"
    },
    {
     "data": {
      "image/png": "[encoded data removed]",
      "text/plain": [
       "<Figure size 432x288 with 1 Axes>"
      ]
     },
     "metadata": {
      "needs_background": "light"
     },
     "output_type": "display_data"
    }
   ],
   "source": [
    "t = 387 # Beginning of stage 2\n",
    "\n",
    "while t<575:\n",
    "    \n",
    "    Dis_daily = Discharge[t+1]*3600*24   # Daily discharge [m^3 day^-1]\n",
    "    empty_Volume = Vol_Sicily + Dis_daily  # Gives the volume above existing wMed water mass, after Atlantic waters replaced wMed by daily discharge\n",
    "                                           \n",
    "    V_atClosestCell = Vol[Vol<empty_Volume].max()  # Gives the volume at the bottom of closest upper layer above wMed brine-Atlantic inflow water interface\n",
    "\n",
    "    V_index = VolList.index(V_atClosestCell)  # Gives the depth to the closest upper layer bottom\n",
    "\n",
    "    Area_atVindex  = Area[V_index]  # Gives the area at the closest upper layer bottom\n",
    "    \n",
    "    AddedSW_bottom = V_index\n",
    "    SL_Sicily      = 426           # Sicily sill level [m]\n",
    "\n",
    "    delta_V = empty_Volume - V_atClosestCell  # Gives the difference between true volume above wMed brine-Atlantic inflow water interface and V_atClosestCell\n",
    "\n",
    "    delta_H = delta_V/Area_atVindex  \n",
    "\n",
    "    NewSW_bottom = AddedSW_bottom+delta_H  # Correct depth to the added Atlantic water layer bottom\n",
    "\n",
    "    # Set arrays to calculate added BPE, see below\n",
    "    y = []\n",
    "    p = []\n",
    "    Product_VolumeHt = []\n",
    "\n",
    "    for i,j in zip(SLArray,Area):\n",
    "        \n",
    "        if i<AddedSW_bottom and i>=SL_Sicily:\n",
    "            \n",
    "            y.append(i)\n",
    "            p.append(j)\n",
    "            \n",
    "            for ii,jj in zip(y,p):\n",
    "                \n",
    "                product = (NewSW_bottom-ii+0.5)*jj  \n",
    "                \n",
    "            Product_VolumeHt.append(product) \n",
    "      \n",
    "    # Upper boundary of the water mass fixed at Sicily sill level.\n",
    "    # Therefore, total BPE is the sum of BPE_completeCells and BPE_bottom.\n",
    "    \n",
    "    BPE_completeCells = np.sum(Product_VolumeHt)*g*rho_SW\n",
    "    #print(BPE_completeCells)\n",
    "    \n",
    "    BPE_bottom = Area_atVindex*rho_SW*g*0.5*delta_H**2\n",
    "    #print(BPE_bottom)\n",
    "    \n",
    "    BPETotal   = BPE_completeCells + BPE_bottom\n",
    "    #print(BPETotal)\n",
    "    \n",
    "    t=t+1\n",
    "    \n",
    "    time.append(t)\n",
    "    BPE_sum.append(BPETotal)\n",
    "    AddedLayer_bot.append(NewSW_bottom)\n",
    "    lower_BPE.append(BPE_bottom)\n",
    "    \n",
    "plt.figure()\n",
    "plt.plot(time,BPE_sum)\n",
    "plt.figure()\n",
    "plt.plot(time,AddedLayer_bot)\n",
    "\n",
    "np.savetxt(\"wMed_Stage2_inflowBottom.txt\", np.array(AddedLayer_bot), fmt=\"%s\")\n",
    "np.savetxt(\"wMed_added_BPE_Stage2.txt\", np.array(BPE_sum), fmt=\"%s\")\n",
    "#np.savetxt(\"BPELowerS2.txt\", np.array(lower_BPE), fmt=\"%s\")\n"
   ]
  },
  {
   "cell_type": "code",
   "execution_count": null,
   "metadata": {},
   "outputs": [],
   "source": []
  }
 ],
 "metadata": {
  "kernelspec": {
   "display_name": "Python 3",
   "language": "python",
   "name": "python3"
  },
  "language_info": {
   "codemirror_mode": {
    "name": "ipython",
    "version": 3
   },
   "file_extension": ".py",
   "mimetype": "text/x-python",
   "name": "python",
   "nbconvert_exporter": "python",
   "pygments_lexer": "ipython3",
   "version": "3.7.1"
  }
 },
 "nbformat": 4,
 "nbformat_minor": 2
}
